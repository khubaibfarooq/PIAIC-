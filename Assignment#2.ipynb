{
 "cells": [
  {
   "cell_type": "markdown",
   "metadata": {},
   "source": [
    "### Numpy_Assignment_2::\n"
   ]
  },
  {
   "cell_type": "markdown",
   "metadata": {},
   "source": [
    "#### Question:1\n",
    "#### Convert a 1D array to a 2D array with 2 rows?\n",
    "#### Desired output::\n",
    "#### array([[0, 1, 2, 3, 4], [5, 6, 7, 8, 9]])"
   ]
  },
  {
   "cell_type": "code",
   "execution_count": 1,
   "metadata": {},
   "outputs": [
    {
     "data": {
      "text/plain": [
       "array([[0, 1, 2, 3, 4],\n",
       "       [5, 6, 7, 8, 9]])"
      ]
     },
     "execution_count": 1,
     "metadata": {},
     "output_type": "execute_result"
    }
   ],
   "source": [
    "import numpy as np\n",
    "arr1d=np.array([0, 1, 2, 3, 4,5, 6, 7, 8, 9])\n",
    "arr2d= np.reshape(arr1d,(2,5))\n",
    "arr2d\n"
   ]
  },
  {
   "cell_type": "markdown",
   "metadata": {},
   "source": [
    "#### Question:2\n",
    "##### How to stack two arrays vertically?\n",
    "\n",
    "##### Desired Output::\n",
    "##### array([[0, 1, 2, 3, 4], [5, 6, 7, 8, 9], [1, 1, 1, 1, 1], [1, 1, 1, 1, 1]])"
   ]
  },
  {
   "cell_type": "code",
   "execution_count": 2,
   "metadata": {},
   "outputs": [
    {
     "data": {
      "text/plain": [
       "array([[0, 1, 2, 3, 4],\n",
       "       [5, 6, 7, 8, 9],\n",
       "       [1, 1, 1, 1, 1],\n",
       "       [1, 1, 1, 1, 1]])"
      ]
     },
     "execution_count": 2,
     "metadata": {},
     "output_type": "execute_result"
    }
   ],
   "source": [
    "x = np.array([[0, 1, 2, 3, 4], [5, 6, 7, 8, 9]])\n",
    "y = np.array([[1, 1, 1, 1, 1], [1, 1, 1, 1, 1]])\n",
    "np.vstack((x,y))"
   ]
  },
  {
   "cell_type": "markdown",
   "metadata": {},
   "source": [
    "#### Question:3\n",
    "##### How to stack two arrays horizontally?\n",
    "#####  Desired Output::\n",
    "#####  array([[0, 1, 2, 3, 4, 1, 1, 1, 1, 1], [5, 6, 7, 8, 9, 1, 1, 1, 1, 1]])"
   ]
  },
  {
   "cell_type": "code",
   "execution_count": 3,
   "metadata": {},
   "outputs": [
    {
     "data": {
      "text/plain": [
       "array([[0, 1, 2, 3, 4, 1, 1, 1, 1, 1],\n",
       "       [5, 6, 7, 8, 9, 1, 1, 1, 1, 1]])"
      ]
     },
     "execution_count": 3,
     "metadata": {},
     "output_type": "execute_result"
    }
   ],
   "source": [
    "x = np.array([[0, 1, 2, 3, 4, 1, 1, 1, 1, 1]])\n",
    "y= np.array([[5, 6, 7, 8, 9, 1, 1, 1, 1, 1]])\n",
    "np.vstack((x,y))"
   ]
  },
  {
   "cell_type": "markdown",
   "metadata": {},
   "source": [
    "#### Question:4\n",
    "##### How to convert an array of arrays into a flat 1d array?\n",
    "#####  Desired Output::\n",
    "##### array([0, 1, 2, 3, 4, 5, 6, 7, 8, 9])\n"
   ]
  },
  {
   "cell_type": "code",
   "execution_count": 4,
   "metadata": {},
   "outputs": [
    {
     "data": {
      "text/plain": [
       "array([0, 1, 2, 3, 4, 5, 6, 7, 8, 9])"
      ]
     },
     "execution_count": 4,
     "metadata": {},
     "output_type": "execute_result"
    }
   ],
   "source": [
    "x = np.array([[0, 1, 2, 3, 4], [5, 6, 7, 8, 9]])\n",
    "x.flatten()"
   ]
  },
  {
   "cell_type": "markdown",
   "metadata": {},
   "source": [
    "#### Question:5\n",
    "##### How to Convert higher dimension into one dimension?\n",
    "##### Desired Output::\n",
    "##### array([ 0, 1, 2, 3, 4, 5, 6, 7, 8, 9, 10, 11, 12, 13, 14])"
   ]
  },
  {
   "cell_type": "code",
   "execution_count": 9,
   "metadata": {},
   "outputs": [
    {
     "data": {
      "text/plain": [
       "array([ 0,  1,  2,  3,  4,  5,  6,  7,  8,  9, 10, 11, 12, 13, 14])"
      ]
     },
     "execution_count": 9,
     "metadata": {},
     "output_type": "execute_result"
    }
   ],
   "source": [
    "arr=np.array([[ 0, 1, 2], [ 3, 4, 5], [ 6, 7, 8], [ 9, 10, 11], [12, 13, 14]])\n",
    "arr.flatten()"
   ]
  },
  {
   "cell_type": "markdown",
   "metadata": {},
   "source": [
    "#### Question:6\n",
    "##### Convert one dimension to higher dimension?\n",
    "##### Desired Output::\n",
    "##### array([[ 0, 1, 2], [ 3, 4, 5], [ 6, 7, 8], [ 9, 10, 11], [12, 13, 14]])"
   ]
  },
  {
   "cell_type": "code",
   "execution_count": 14,
   "metadata": {},
   "outputs": [
    {
     "data": {
      "text/plain": [
       "array([[ 0,  1,  2],\n",
       "       [ 3,  4,  5],\n",
       "       [ 6,  7,  8],\n",
       "       [ 9, 10, 11],\n",
       "       [12, 13, 14]])"
      ]
     },
     "execution_count": 14,
     "metadata": {},
     "output_type": "execute_result"
    }
   ],
   "source": [
    "arr=np.array([ 0,  1,  2,  3,  4,  5,  6,  7,  8,  9, 10, 11, 12, 13, 14])\n",
    "newarr=arr.reshape(5, 3)\n",
    "newarr"
   ]
  },
  {
   "cell_type": "markdown",
   "metadata": {},
   "source": [
    "#### Question:7\n",
    "##### Create 5x5 an array and find the square of an array?\n",
    "\n"
   ]
  },
  {
   "cell_type": "code",
   "execution_count": 20,
   "metadata": {},
   "outputs": [
    {
     "data": {
      "text/plain": [
       "array([[2.13840181e-01, 9.98171538e-04, 3.00877312e-01, 5.33639522e-01,\n",
       "        1.24748982e-03],\n",
       "       [2.81070780e-01, 4.13831576e-01, 1.52098559e-01, 4.95651976e-02,\n",
       "        1.27193421e-01],\n",
       "       [2.89431356e-02, 4.29681859e-02, 2.16996032e-02, 1.12653589e-02,\n",
       "        4.33920400e-01],\n",
       "       [3.41985344e-04, 1.41258585e-01, 2.25259038e-01, 2.83225804e-01,\n",
       "        5.29551840e-02],\n",
       "       [8.66217026e-02, 8.63802736e-01, 3.65480009e-01, 1.64891784e-01,\n",
       "        3.42130157e-01]])"
      ]
     },
     "execution_count": 20,
     "metadata": {},
     "output_type": "execute_result"
    }
   ],
   "source": [
    "arr=np.random.random((5,5))\n",
    "\n",
    "np.square(arr)"
   ]
  },
  {
   "cell_type": "markdown",
   "metadata": {},
   "source": [
    "##### Question:8\n",
    "##### Create 5x6 an array and find the mean?\n",
    "\n"
   ]
  },
  {
   "cell_type": "code",
   "execution_count": 22,
   "metadata": {},
   "outputs": [
    {
     "name": "stdout",
     "output_type": "stream",
     "text": [
      "Original array\n",
      "[[8.44390011e-01 1.83623942e-01 7.27371251e-01 6.45347344e-01\n",
      "  5.42591186e-01 3.79471784e-01]\n",
      " [9.08134854e-01 1.92046485e-01 9.59657831e-01 3.79627679e-02\n",
      "  4.60816379e-01 1.07389078e-01]\n",
      " [2.47430004e-01 9.59273338e-01 8.77699654e-01 7.41987309e-01\n",
      "  4.76800478e-01 9.90244326e-01]\n",
      " [6.85996036e-01 2.27708274e-01 2.29955200e-01 6.19406057e-01\n",
      "  8.26508939e-04 6.24064659e-01]\n",
      " [4.00464128e-01 7.93582966e-01 4.38417962e-01 1.28748972e-01\n",
      "  5.57284842e-01 7.25210670e-01]]\n",
      "Mean\n"
     ]
    },
    {
     "data": {
      "text/plain": [
       "0.5237968098000496"
      ]
     },
     "execution_count": 22,
     "metadata": {},
     "output_type": "execute_result"
    }
   ],
   "source": [
    "arr=np.random.random((5,6))\n",
    "print(\"Original array\")\n",
    "print(arr)\n",
    "print(\"Mean\")\n",
    "np.mean(arr)"
   ]
  },
  {
   "cell_type": "markdown",
   "metadata": {},
   "source": [
    "##### Question:9\n",
    "##### Find the standard deviation of the previous array in Q8?\n"
   ]
  },
  {
   "cell_type": "code",
   "execution_count": 23,
   "metadata": {},
   "outputs": [
    {
     "data": {
      "text/plain": [
       "0.2944909298879927"
      ]
     },
     "execution_count": 23,
     "metadata": {},
     "output_type": "execute_result"
    }
   ],
   "source": [
    "np.std(arr)"
   ]
  },
  {
   "cell_type": "markdown",
   "metadata": {},
   "source": [
    "##### Question:10\n",
    "##### Find the median of the previous array in Q8?\n",
    "\n"
   ]
  },
  {
   "cell_type": "code",
   "execution_count": 24,
   "metadata": {},
   "outputs": [
    {
     "data": {
      "text/plain": [
       "0.5499380140676986"
      ]
     },
     "execution_count": 24,
     "metadata": {},
     "output_type": "execute_result"
    }
   ],
   "source": [
    "np.median(arr)"
   ]
  },
  {
   "cell_type": "markdown",
   "metadata": {},
   "source": [
    "##### Question:11\n",
    "##### Find the transpose of the previous array in Q8?\n"
   ]
  },
  {
   "cell_type": "code",
   "execution_count": 26,
   "metadata": {},
   "outputs": [
    {
     "name": "stdout",
     "output_type": "stream",
     "text": [
      "Original array\n",
      "[[8.44390011e-01 1.83623942e-01 7.27371251e-01 6.45347344e-01\n",
      "  5.42591186e-01 3.79471784e-01]\n",
      " [9.08134854e-01 1.92046485e-01 9.59657831e-01 3.79627679e-02\n",
      "  4.60816379e-01 1.07389078e-01]\n",
      " [2.47430004e-01 9.59273338e-01 8.77699654e-01 7.41987309e-01\n",
      "  4.76800478e-01 9.90244326e-01]\n",
      " [6.85996036e-01 2.27708274e-01 2.29955200e-01 6.19406057e-01\n",
      "  8.26508939e-04 6.24064659e-01]\n",
      " [4.00464128e-01 7.93582966e-01 4.38417962e-01 1.28748972e-01\n",
      "  5.57284842e-01 7.25210670e-01]]\n"
     ]
    },
    {
     "data": {
      "text/plain": [
       "array([[8.44390011e-01, 9.08134854e-01, 2.47430004e-01, 6.85996036e-01,\n",
       "        4.00464128e-01],\n",
       "       [1.83623942e-01, 1.92046485e-01, 9.59273338e-01, 2.27708274e-01,\n",
       "        7.93582966e-01],\n",
       "       [7.27371251e-01, 9.59657831e-01, 8.77699654e-01, 2.29955200e-01,\n",
       "        4.38417962e-01],\n",
       "       [6.45347344e-01, 3.79627679e-02, 7.41987309e-01, 6.19406057e-01,\n",
       "        1.28748972e-01],\n",
       "       [5.42591186e-01, 4.60816379e-01, 4.76800478e-01, 8.26508939e-04,\n",
       "        5.57284842e-01],\n",
       "       [3.79471784e-01, 1.07389078e-01, 9.90244326e-01, 6.24064659e-01,\n",
       "        7.25210670e-01]])"
      ]
     },
     "execution_count": 26,
     "metadata": {},
     "output_type": "execute_result"
    }
   ],
   "source": [
    "print(\"Original array\")\n",
    "print(arr)\n",
    "newarr=arr.transpose()\n",
    "newarr"
   ]
  },
  {
   "cell_type": "markdown",
   "metadata": {},
   "source": [
    "\n",
    "##### Question:12\n",
    "##### Create a 4x4 an array and find the sum of diagonal elements?\n"
   ]
  },
  {
   "cell_type": "code",
   "execution_count": 28,
   "metadata": {},
   "outputs": [
    {
     "name": "stdout",
     "output_type": "stream",
     "text": [
      "[[0.96556827 0.21811599 0.9360516  0.8349666 ]\n",
      " [0.66103228 0.33953277 0.62648502 0.89734855]\n",
      " [0.27532567 0.42451085 0.02300772 0.98839571]\n",
      " [0.73207039 0.8364595  0.74496717 0.68012237]]\n"
     ]
    },
    {
     "data": {
      "text/plain": [
       "2.008231137179255"
      ]
     },
     "execution_count": 28,
     "metadata": {},
     "output_type": "execute_result"
    }
   ],
   "source": [
    "arr4x4=np.random.random((4,4))\n",
    "print(arr4x4)\n",
    "sum=np.trace(arr4x4)\n",
    "sum"
   ]
  },
  {
   "cell_type": "markdown",
   "metadata": {},
   "source": [
    "##### Question:13\n",
    "##### Find the determinant of the previous array in Q12?\n",
    "\n"
   ]
  },
  {
   "cell_type": "code",
   "execution_count": 29,
   "metadata": {},
   "outputs": [
    {
     "data": {
      "text/plain": [
       "0.041793461149055064"
      ]
     },
     "execution_count": 29,
     "metadata": {},
     "output_type": "execute_result"
    }
   ],
   "source": [
    "np.linalg.det(arr4x4)"
   ]
  },
  {
   "cell_type": "markdown",
   "metadata": {},
   "source": [
    "##### Question:14\n",
    "##### Find the 5th and 95th percentile of an array?\n",
    "\n"
   ]
  },
  {
   "cell_type": "code",
   "execution_count": 31,
   "metadata": {},
   "outputs": [
    {
     "name": "stdout",
     "output_type": "stream",
     "text": [
      "5th percentile\n",
      "0.16933892677912588\n",
      "95th percentile\n",
      "0.9712751330209237\n"
     ]
    }
   ],
   "source": [
    "\n",
    "print(\"5th percentile\")\n",
    "print(np.percentile(arr4x4,5))\n",
    "print(\"95th percentile\")\n",
    "print(np.percentile(arr4x4,95))"
   ]
  },
  {
   "cell_type": "markdown",
   "metadata": {},
   "source": [
    "##### Question:15\n",
    "##### How to find if a given array has any null values?"
   ]
  },
  {
   "cell_type": "code",
   "execution_count": 43,
   "metadata": {},
   "outputs": [
    {
     "data": {
      "text/plain": [
       "True"
      ]
     },
     "execution_count": 43,
     "metadata": {},
     "output_type": "execute_result"
    }
   ],
   "source": [
    "a = np.array([1,2,3,np.nan])\n",
    "np.isnan(a).any()"
   ]
  },
  {
   "cell_type": "code",
   "execution_count": null,
   "metadata": {},
   "outputs": [],
   "source": []
  }
 ],
 "metadata": {
  "kernelspec": {
   "display_name": "Python 3",
   "language": "python",
   "name": "python3"
  },
  "language_info": {
   "codemirror_mode": {
    "name": "ipython",
    "version": 3
   },
   "file_extension": ".py",
   "mimetype": "text/x-python",
   "name": "python",
   "nbconvert_exporter": "python",
   "pygments_lexer": "ipython3",
   "version": "3.7.6"
  }
 },
 "nbformat": 4,
 "nbformat_minor": 4
}
